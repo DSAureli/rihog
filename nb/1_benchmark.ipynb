{
 "cells": [
  {
   "cell_type": "code",
   "execution_count": 1,
   "id": "fd6c1c99",
   "metadata": {},
   "outputs": [],
   "source": [
    "import sys\n",
    "from time import perf_counter\n",
    "\n",
    "import matplotlib.pyplot as plt\n",
    "import pandas as pd\n",
    "import seaborn as sns\n",
    "import torch\n",
    "from tqdm.notebook import tqdm\n",
    "\n",
    "sys.path.insert(0, \"..\")\n",
    "import rihog"
   ]
  },
  {
   "cell_type": "code",
   "execution_count": 2,
   "id": "590f9afc",
   "metadata": {},
   "outputs": [],
   "source": [
    "class Timer:\n",
    "\tdef __init__(self, device: torch.device):\n",
    "\t\tself.device = device\n",
    "\t\n",
    "\tdef __enter__(self):\n",
    "\t\tself.start = perf_counter()\n",
    "\t\treturn self\n",
    "\t\n",
    "\tdef __exit__(self, exc_type, exc_value, traceback):\n",
    "\t\tif self.device.type == \"cuda\":\n",
    "\t\t\ttorch.cuda.synchronize()\n",
    "\t\tself.time = perf_counter() - self.start"
   ]
  },
  {
   "cell_type": "code",
   "execution_count": 3,
   "id": "f376202a",
   "metadata": {},
   "outputs": [],
   "source": [
    "N_WARMUP = 20\n",
    "N_ITER = 30\n",
    "#N_WARMUP = 0\n",
    "#N_ITER = 1\n",
    "SEED = 0\n",
    "_ = torch.manual_seed(SEED)"
   ]
  },
  {
   "cell_type": "markdown",
   "id": "0e5ba72b",
   "metadata": {},
   "source": [
    "---"
   ]
  },
  {
   "cell_type": "code",
   "execution_count": 4,
   "id": "020c24fd",
   "metadata": {},
   "outputs": [
    {
     "data": {
      "application/vnd.jupyter.widget-view+json": {
       "model_id": "c2912042bc604c9498a6208a681bd535",
       "version_major": 2,
       "version_minor": 0
      },
      "text/plain": [
       "nbhd_steps:   0%|          | 0/5 [00:00<?, ?it/s]"
      ]
     },
     "metadata": {},
     "output_type": "display_data"
    },
    {
     "data": {
      "application/vnd.jupyter.widget-view+json": {
       "model_id": "81af3601726640988f6a3c05ba8a7752",
       "version_major": 2,
       "version_minor": 0
      },
      "text/plain": [
       "it: 0it [00:00, ?it/s]"
      ]
     },
     "metadata": {},
     "output_type": "display_data"
    },
    {
     "data": {
      "application/vnd.jupyter.widget-view+json": {
       "model_id": "15bf222922a642d6be94ba7611ac9e6e",
       "version_major": 2,
       "version_minor": 0
      },
      "text/plain": [
       "it: 0it [00:00, ?it/s]"
      ]
     },
     "metadata": {},
     "output_type": "display_data"
    },
    {
     "data": {
      "application/vnd.jupyter.widget-view+json": {
       "model_id": "fee6056227b94afe9a842e170ace62ae",
       "version_major": 2,
       "version_minor": 0
      },
      "text/plain": [
       "it: 0it [00:00, ?it/s]"
      ]
     },
     "metadata": {},
     "output_type": "display_data"
    },
    {
     "data": {
      "application/vnd.jupyter.widget-view+json": {
       "model_id": "86c41c47f0ad460b91234062226ccd11",
       "version_major": 2,
       "version_minor": 0
      },
      "text/plain": [
       "it: 0it [00:00, ?it/s]"
      ]
     },
     "metadata": {},
     "output_type": "display_data"
    },
    {
     "data": {
      "application/vnd.jupyter.widget-view+json": {
       "model_id": "b05deb7797da44ca8cb14281a6b10a8a",
       "version_major": 2,
       "version_minor": 0
      },
      "text/plain": [
       "it: 0it [00:00, ?it/s]"
      ]
     },
     "metadata": {},
     "output_type": "display_data"
    },
    {
     "data": {
      "application/vnd.jupyter.widget-view+json": {
       "model_id": "f8055904330f4afd9d29619a2f45de82",
       "version_major": 2,
       "version_minor": 0
      },
      "text/plain": [
       "it: 0it [00:00, ?it/s]"
      ]
     },
     "metadata": {},
     "output_type": "display_data"
    },
    {
     "data": {
      "application/vnd.jupyter.widget-view+json": {
       "model_id": "7ae22c2a8a4d4636bc824e4ea842669b",
       "version_major": 2,
       "version_minor": 0
      },
      "text/plain": [
       "it: 0it [00:00, ?it/s]"
      ]
     },
     "metadata": {},
     "output_type": "display_data"
    },
    {
     "data": {
      "application/vnd.jupyter.widget-view+json": {
       "model_id": "251c983beee141268041b1824b9274cc",
       "version_major": 2,
       "version_minor": 0
      },
      "text/plain": [
       "it: 0it [00:00, ?it/s]"
      ]
     },
     "metadata": {},
     "output_type": "display_data"
    },
    {
     "data": {
      "application/vnd.jupyter.widget-view+json": {
       "model_id": "c441729279b14a4daab2f4bf0ff3b89a",
       "version_major": 2,
       "version_minor": 0
      },
      "text/plain": [
       "it: 0it [00:00, ?it/s]"
      ]
     },
     "metadata": {},
     "output_type": "display_data"
    },
    {
     "data": {
      "application/vnd.jupyter.widget-view+json": {
       "model_id": "03d4f1cfc5ed455380e60216a0482bd2",
       "version_major": 2,
       "version_minor": 0
      },
      "text/plain": [
       "it: 0it [00:00, ?it/s]"
      ]
     },
     "metadata": {},
     "output_type": "display_data"
    },
    {
     "data": {
      "application/vnd.jupyter.widget-view+json": {
       "model_id": "9761d82ea5fd470ea45d022b3770d22f",
       "version_major": 2,
       "version_minor": 0
      },
      "text/plain": [
       "it: 0it [00:00, ?it/s]"
      ]
     },
     "metadata": {},
     "output_type": "display_data"
    },
    {
     "data": {
      "application/vnd.jupyter.widget-view+json": {
       "model_id": "3cc9317c7dd049d2855a423ca39d30f1",
       "version_major": 2,
       "version_minor": 0
      },
      "text/plain": [
       "it: 0it [00:00, ?it/s]"
      ]
     },
     "metadata": {},
     "output_type": "display_data"
    },
    {
     "data": {
      "application/vnd.jupyter.widget-view+json": {
       "model_id": "0fdaa4b01a7040b8b607ad194d0d8310",
       "version_major": 2,
       "version_minor": 0
      },
      "text/plain": [
       "it: 0it [00:00, ?it/s]"
      ]
     },
     "metadata": {},
     "output_type": "display_data"
    },
    {
     "data": {
      "application/vnd.jupyter.widget-view+json": {
       "model_id": "9be9fd2c187b41419966a2a2170b6156",
       "version_major": 2,
       "version_minor": 0
      },
      "text/plain": [
       "it: 0it [00:00, ?it/s]"
      ]
     },
     "metadata": {},
     "output_type": "display_data"
    },
    {
     "data": {
      "application/vnd.jupyter.widget-view+json": {
       "model_id": "fc9f9b363bec440ea67175e3c87c54f2",
       "version_major": 2,
       "version_minor": 0
      },
      "text/plain": [
       "it: 0it [00:00, ?it/s]"
      ]
     },
     "metadata": {},
     "output_type": "display_data"
    }
   ],
   "source": [
    "BATCH_SIZE = 1\n",
    "NUM_BINS = 8\n",
    "IMG_SIZE = 128\n",
    "df_rows = []\n",
    "for nbhd_steps in tqdm(list(range(1, 5+1)), desc=\"nbhd_steps\", leave=False):\n",
    "\trihog_extr = rihog.RIHOG(nbhd_steps=nbhd_steps, num_bins=NUM_BINS)\n",
    "\tnaive_rihog_extr = rihog.NaiveRIHOG(nbhd_steps=nbhd_steps, num_bins=NUM_BINS)\n",
    "\tbatches = torch.rand((N_WARMUP + N_ITER, BATCH_SIZE, 1, IMG_SIZE, IMG_SIZE), device=\"cpu\")\n",
    "\tfor extr in [rihog_extr, naive_rihog_extr]:\n",
    "\t\tfor it, batch in tqdm(enumerate(batches), desc=\"it\", leave=False):\n",
    "\t\t\twith Timer(batches.device) as timer:\n",
    "\t\t\t\textr(batch)\n",
    "\t\t\tif it+1 > N_WARMUP:\n",
    "\t\t\t\tdf_rows.append({\n",
    "\t\t\t\t\t\"algo\": extr.__class__.__name__ + \" [cpu]\",\n",
    "\t\t\t\t\t\"nbhd_steps\": nbhd_steps,\n",
    "\t\t\t\t\t\"time\": timer.time\n",
    "\t\t\t\t})\n",
    "\tbatches = batches.to(\"cuda\")\n",
    "\tfor it, batch in tqdm(enumerate(batches), desc=\"it\", leave=False):\n",
    "\t\twith Timer(batches.device) as timer:\n",
    "\t\t\trihog_extr(batch)\n",
    "\t\tif it+1 > N_WARMUP:\n",
    "\t\t\tdf_rows.append({\n",
    "\t\t\t\t\"algo\": rihog_extr.__class__.__name__ + \" [cuda]\",\n",
    "\t\t\t\t\"nbhd_steps\": nbhd_steps,\n",
    "\t\t\t\t\"time\": timer.time\n",
    "\t\t\t})"
   ]
  },
  {
   "cell_type": "code",
   "execution_count": 5,
   "id": "f02d38ac",
   "metadata": {},
   "outputs": [
    {
     "data": {
      "text/html": [
       "<div>\n",
       "<style scoped>\n",
       "    .dataframe tbody tr th:only-of-type {\n",
       "        vertical-align: middle;\n",
       "    }\n",
       "\n",
       "    .dataframe tbody tr th {\n",
       "        vertical-align: top;\n",
       "    }\n",
       "\n",
       "    .dataframe thead th {\n",
       "        text-align: right;\n",
       "    }\n",
       "</style>\n",
       "<table border=\"1\" class=\"dataframe\">\n",
       "  <thead>\n",
       "    <tr style=\"text-align: right;\">\n",
       "      <th></th>\n",
       "      <th>algo</th>\n",
       "      <th>nbhd_steps</th>\n",
       "      <th>time</th>\n",
       "    </tr>\n",
       "  </thead>\n",
       "  <tbody>\n",
       "    <tr>\n",
       "      <th>0</th>\n",
       "      <td>NaiveRIHOG [cpu]</td>\n",
       "      <td>1</td>\n",
       "      <td>0.335812</td>\n",
       "    </tr>\n",
       "    <tr>\n",
       "      <th>1</th>\n",
       "      <td>NaiveRIHOG [cpu]</td>\n",
       "      <td>2</td>\n",
       "      <td>0.649693</td>\n",
       "    </tr>\n",
       "    <tr>\n",
       "      <th>2</th>\n",
       "      <td>NaiveRIHOG [cpu]</td>\n",
       "      <td>3</td>\n",
       "      <td>0.956952</td>\n",
       "    </tr>\n",
       "    <tr>\n",
       "      <th>3</th>\n",
       "      <td>NaiveRIHOG [cpu]</td>\n",
       "      <td>4</td>\n",
       "      <td>1.241303</td>\n",
       "    </tr>\n",
       "    <tr>\n",
       "      <th>4</th>\n",
       "      <td>NaiveRIHOG [cpu]</td>\n",
       "      <td>5</td>\n",
       "      <td>1.497104</td>\n",
       "    </tr>\n",
       "  </tbody>\n",
       "</table>\n",
       "</div>"
      ],
      "text/plain": [
       "               algo  nbhd_steps      time\n",
       "0  NaiveRIHOG [cpu]           1  0.335812\n",
       "1  NaiveRIHOG [cpu]           2  0.649693\n",
       "2  NaiveRIHOG [cpu]           3  0.956952\n",
       "3  NaiveRIHOG [cpu]           4  1.241303\n",
       "4  NaiveRIHOG [cpu]           5  1.497104"
      ]
     },
     "execution_count": 5,
     "metadata": {},
     "output_type": "execute_result"
    }
   ],
   "source": [
    "df_nbhd_steps = pd.DataFrame.from_records(df_rows)\n",
    "df_nbhd_steps = df_nbhd_steps.groupby([\"algo\", \"nbhd_steps\"]).mean().reset_index()\n",
    "df_nbhd_steps.head()"
   ]
  },
  {
   "cell_type": "code",
   "execution_count": 6,
   "id": "b6dffb84",
   "metadata": {},
   "outputs": [
    {
     "data": {
      "text/html": [
       "<div>\n",
       "<style scoped>\n",
       "    .dataframe tbody tr th:only-of-type {\n",
       "        vertical-align: middle;\n",
       "    }\n",
       "\n",
       "    .dataframe tbody tr th {\n",
       "        vertical-align: top;\n",
       "    }\n",
       "\n",
       "    .dataframe thead th {\n",
       "        text-align: right;\n",
       "    }\n",
       "</style>\n",
       "<table border=\"1\" class=\"dataframe\">\n",
       "  <thead>\n",
       "    <tr style=\"text-align: right;\">\n",
       "      <th></th>\n",
       "      <th>nbhd_steps</th>\n",
       "      <th>algo</th>\n",
       "      <th>run time ratio</th>\n",
       "    </tr>\n",
       "  </thead>\n",
       "  <tbody>\n",
       "    <tr>\n",
       "      <th>0</th>\n",
       "      <td>1</td>\n",
       "      <td>NaiveRIHOG [cpu]</td>\n",
       "      <td>1.0</td>\n",
       "    </tr>\n",
       "    <tr>\n",
       "      <th>1</th>\n",
       "      <td>2</td>\n",
       "      <td>NaiveRIHOG [cpu]</td>\n",
       "      <td>1.0</td>\n",
       "    </tr>\n",
       "    <tr>\n",
       "      <th>2</th>\n",
       "      <td>3</td>\n",
       "      <td>NaiveRIHOG [cpu]</td>\n",
       "      <td>1.0</td>\n",
       "    </tr>\n",
       "    <tr>\n",
       "      <th>3</th>\n",
       "      <td>4</td>\n",
       "      <td>NaiveRIHOG [cpu]</td>\n",
       "      <td>1.0</td>\n",
       "    </tr>\n",
       "    <tr>\n",
       "      <th>4</th>\n",
       "      <td>5</td>\n",
       "      <td>NaiveRIHOG [cpu]</td>\n",
       "      <td>1.0</td>\n",
       "    </tr>\n",
       "  </tbody>\n",
       "</table>\n",
       "</div>"
      ],
      "text/plain": [
       "   nbhd_steps              algo  run time ratio\n",
       "0           1  NaiveRIHOG [cpu]             1.0\n",
       "1           2  NaiveRIHOG [cpu]             1.0\n",
       "2           3  NaiveRIHOG [cpu]             1.0\n",
       "3           4  NaiveRIHOG [cpu]             1.0\n",
       "4           5  NaiveRIHOG [cpu]             1.0"
      ]
     },
     "execution_count": 6,
     "metadata": {},
     "output_type": "execute_result"
    }
   ],
   "source": [
    "df_nbhd_steps_rel = df_nbhd_steps.pivot(index=\"nbhd_steps\", columns=\"algo\", values=\"time\")\n",
    "df_nbhd_steps_rel = df_nbhd_steps_rel.div(df_nbhd_steps_rel[\"NaiveRIHOG [cpu]\"], axis=0)\n",
    "df_nbhd_steps_rel = df_nbhd_steps_rel.reset_index().melt(id_vars=\"nbhd_steps\", value_name=\"run time ratio\")\n",
    "df_nbhd_steps_rel.head()"
   ]
  },
  {
   "cell_type": "markdown",
   "id": "4808f7da",
   "metadata": {},
   "source": [
    "---"
   ]
  },
  {
   "cell_type": "code",
   "execution_count": 7,
   "id": "00ee392d",
   "metadata": {},
   "outputs": [
    {
     "data": {
      "application/vnd.jupyter.widget-view+json": {
       "model_id": "80e3bd7b501d48bb83a27aa7498a84af",
       "version_major": 2,
       "version_minor": 0
      },
      "text/plain": [
       "batch_size:   0%|          | 0/5 [00:00<?, ?it/s]"
      ]
     },
     "metadata": {},
     "output_type": "display_data"
    },
    {
     "data": {
      "application/vnd.jupyter.widget-view+json": {
       "model_id": "caf196caa52b404390c72e82df07730e",
       "version_major": 2,
       "version_minor": 0
      },
      "text/plain": [
       "it: 0it [00:00, ?it/s]"
      ]
     },
     "metadata": {},
     "output_type": "display_data"
    },
    {
     "data": {
      "application/vnd.jupyter.widget-view+json": {
       "model_id": "21bcdf0ccfa64e32b023d6eb24ee159e",
       "version_major": 2,
       "version_minor": 0
      },
      "text/plain": [
       "it: 0it [00:00, ?it/s]"
      ]
     },
     "metadata": {},
     "output_type": "display_data"
    },
    {
     "data": {
      "application/vnd.jupyter.widget-view+json": {
       "model_id": "563df09abe454b8c93a5ce6e3ff39c18",
       "version_major": 2,
       "version_minor": 0
      },
      "text/plain": [
       "it: 0it [00:00, ?it/s]"
      ]
     },
     "metadata": {},
     "output_type": "display_data"
    },
    {
     "data": {
      "application/vnd.jupyter.widget-view+json": {
       "model_id": "8cadf39399fb43ef924da65334354940",
       "version_major": 2,
       "version_minor": 0
      },
      "text/plain": [
       "it: 0it [00:00, ?it/s]"
      ]
     },
     "metadata": {},
     "output_type": "display_data"
    },
    {
     "data": {
      "application/vnd.jupyter.widget-view+json": {
       "model_id": "1ffb77e2d9b5453da5cf1ace028aee3d",
       "version_major": 2,
       "version_minor": 0
      },
      "text/plain": [
       "it: 0it [00:00, ?it/s]"
      ]
     },
     "metadata": {},
     "output_type": "display_data"
    },
    {
     "data": {
      "application/vnd.jupyter.widget-view+json": {
       "model_id": "e833a902827448fe828f1ece9dc9c962",
       "version_major": 2,
       "version_minor": 0
      },
      "text/plain": [
       "it: 0it [00:00, ?it/s]"
      ]
     },
     "metadata": {},
     "output_type": "display_data"
    },
    {
     "data": {
      "application/vnd.jupyter.widget-view+json": {
       "model_id": "2fb95eab70e7415197981b61ac2f86e4",
       "version_major": 2,
       "version_minor": 0
      },
      "text/plain": [
       "it: 0it [00:00, ?it/s]"
      ]
     },
     "metadata": {},
     "output_type": "display_data"
    },
    {
     "data": {
      "application/vnd.jupyter.widget-view+json": {
       "model_id": "a9f6661b06744ab59989d0147aa76f82",
       "version_major": 2,
       "version_minor": 0
      },
      "text/plain": [
       "it: 0it [00:00, ?it/s]"
      ]
     },
     "metadata": {},
     "output_type": "display_data"
    },
    {
     "data": {
      "application/vnd.jupyter.widget-view+json": {
       "model_id": "8e719fb40bee4fe3903c63d58df98668",
       "version_major": 2,
       "version_minor": 0
      },
      "text/plain": [
       "it: 0it [00:00, ?it/s]"
      ]
     },
     "metadata": {},
     "output_type": "display_data"
    },
    {
     "data": {
      "application/vnd.jupyter.widget-view+json": {
       "model_id": "50f79f0995d649f2abd241d601689021",
       "version_major": 2,
       "version_minor": 0
      },
      "text/plain": [
       "it: 0it [00:00, ?it/s]"
      ]
     },
     "metadata": {},
     "output_type": "display_data"
    },
    {
     "data": {
      "application/vnd.jupyter.widget-view+json": {
       "model_id": "4f438499a5c346dd8290f85d1d875343",
       "version_major": 2,
       "version_minor": 0
      },
      "text/plain": [
       "it: 0it [00:00, ?it/s]"
      ]
     },
     "metadata": {},
     "output_type": "display_data"
    },
    {
     "data": {
      "application/vnd.jupyter.widget-view+json": {
       "model_id": "5f4b107beee14a65aab1bbe9c681b427",
       "version_major": 2,
       "version_minor": 0
      },
      "text/plain": [
       "it: 0it [00:00, ?it/s]"
      ]
     },
     "metadata": {},
     "output_type": "display_data"
    },
    {
     "data": {
      "application/vnd.jupyter.widget-view+json": {
       "model_id": "b60c14eb624542709cf1e31dff4c2dc4",
       "version_major": 2,
       "version_minor": 0
      },
      "text/plain": [
       "it: 0it [00:00, ?it/s]"
      ]
     },
     "metadata": {},
     "output_type": "display_data"
    },
    {
     "data": {
      "application/vnd.jupyter.widget-view+json": {
       "model_id": "59fe95159e97406b805921aac6a91765",
       "version_major": 2,
       "version_minor": 0
      },
      "text/plain": [
       "it: 0it [00:00, ?it/s]"
      ]
     },
     "metadata": {},
     "output_type": "display_data"
    },
    {
     "data": {
      "application/vnd.jupyter.widget-view+json": {
       "model_id": "466be69a867243e286808007f32dc9df",
       "version_major": 2,
       "version_minor": 0
      },
      "text/plain": [
       "it: 0it [00:00, ?it/s]"
      ]
     },
     "metadata": {},
     "output_type": "display_data"
    }
   ],
   "source": [
    "NBHD_STEPS = 3\n",
    "NUM_BINS = 8\n",
    "IMG_SIZE = 128\n",
    "df_rows = []\n",
    "for batch_size in tqdm([2, 4, 8, 16, 32], desc=\"batch_size\", leave=False):\n",
    "\trihog_extr = rihog.RIHOG(nbhd_steps=NBHD_STEPS, num_bins=NUM_BINS)\n",
    "\tnaive_rihog_extr = rihog.NaiveRIHOG(nbhd_steps=NBHD_STEPS, num_bins=NUM_BINS)\n",
    "\tbatches = torch.rand((N_WARMUP + N_ITER, batch_size, 1, IMG_SIZE, IMG_SIZE), device=\"cpu\")\n",
    "\tfor extr in [rihog_extr, naive_rihog_extr]:\n",
    "\t\tfor it, batch in tqdm(enumerate(batches), desc=\"it\", leave=False):\n",
    "\t\t\twith Timer(batches.device) as timer:\n",
    "\t\t\t\textr(batch)\n",
    "\t\t\tif it+1 > N_WARMUP:\n",
    "\t\t\t\tdf_rows.append({\n",
    "\t\t\t\t\t\"algo\": extr.__class__.__name__ + \" [cpu]\",\n",
    "\t\t\t\t\t\"batch size\": batch_size,\n",
    "\t\t\t\t\t\"time\": timer.time\n",
    "\t\t\t\t})\n",
    "\tbatches = batches.to(\"cuda\")\n",
    "\tfor it, batch in tqdm(enumerate(batches), desc=\"it\", leave=False):\n",
    "\t\twith Timer(batches.device) as timer:\n",
    "\t\t\trihog_extr(batch)\n",
    "\t\tif it+1 > N_WARMUP:\n",
    "\t\t\tdf_rows.append({\n",
    "\t\t\t\t\"algo\": rihog_extr.__class__.__name__ + \" [cuda]\",\n",
    "\t\t\t\t\"batch size\": batch_size,\n",
    "\t\t\t\t\"time\": timer.time\n",
    "\t\t\t})"
   ]
  },
  {
   "cell_type": "code",
   "execution_count": 8,
   "id": "51d9a65d",
   "metadata": {},
   "outputs": [
    {
     "data": {
      "text/html": [
       "<div>\n",
       "<style scoped>\n",
       "    .dataframe tbody tr th:only-of-type {\n",
       "        vertical-align: middle;\n",
       "    }\n",
       "\n",
       "    .dataframe tbody tr th {\n",
       "        vertical-align: top;\n",
       "    }\n",
       "\n",
       "    .dataframe thead th {\n",
       "        text-align: right;\n",
       "    }\n",
       "</style>\n",
       "<table border=\"1\" class=\"dataframe\">\n",
       "  <thead>\n",
       "    <tr style=\"text-align: right;\">\n",
       "      <th></th>\n",
       "      <th>algo</th>\n",
       "      <th>batch size</th>\n",
       "      <th>time</th>\n",
       "    </tr>\n",
       "  </thead>\n",
       "  <tbody>\n",
       "    <tr>\n",
       "      <th>0</th>\n",
       "      <td>NaiveRIHOG [cpu]</td>\n",
       "      <td>2</td>\n",
       "      <td>1.884210</td>\n",
       "    </tr>\n",
       "    <tr>\n",
       "      <th>1</th>\n",
       "      <td>NaiveRIHOG [cpu]</td>\n",
       "      <td>4</td>\n",
       "      <td>3.799933</td>\n",
       "    </tr>\n",
       "    <tr>\n",
       "      <th>2</th>\n",
       "      <td>NaiveRIHOG [cpu]</td>\n",
       "      <td>8</td>\n",
       "      <td>7.536192</td>\n",
       "    </tr>\n",
       "    <tr>\n",
       "      <th>3</th>\n",
       "      <td>NaiveRIHOG [cpu]</td>\n",
       "      <td>16</td>\n",
       "      <td>15.126553</td>\n",
       "    </tr>\n",
       "    <tr>\n",
       "      <th>4</th>\n",
       "      <td>NaiveRIHOG [cpu]</td>\n",
       "      <td>32</td>\n",
       "      <td>30.084444</td>\n",
       "    </tr>\n",
       "  </tbody>\n",
       "</table>\n",
       "</div>"
      ],
      "text/plain": [
       "               algo  batch size       time\n",
       "0  NaiveRIHOG [cpu]           2   1.884210\n",
       "1  NaiveRIHOG [cpu]           4   3.799933\n",
       "2  NaiveRIHOG [cpu]           8   7.536192\n",
       "3  NaiveRIHOG [cpu]          16  15.126553\n",
       "4  NaiveRIHOG [cpu]          32  30.084444"
      ]
     },
     "execution_count": 8,
     "metadata": {},
     "output_type": "execute_result"
    }
   ],
   "source": [
    "df_batch_size = pd.DataFrame.from_records(df_rows)\n",
    "df_batch_size = df_batch_size.groupby([\"algo\", \"batch size\"]).mean().reset_index()\n",
    "df_batch_size.head()"
   ]
  },
  {
   "cell_type": "code",
   "execution_count": 9,
   "id": "9f7cd497",
   "metadata": {},
   "outputs": [
    {
     "data": {
      "text/html": [
       "<div>\n",
       "<style scoped>\n",
       "    .dataframe tbody tr th:only-of-type {\n",
       "        vertical-align: middle;\n",
       "    }\n",
       "\n",
       "    .dataframe tbody tr th {\n",
       "        vertical-align: top;\n",
       "    }\n",
       "\n",
       "    .dataframe thead th {\n",
       "        text-align: right;\n",
       "    }\n",
       "</style>\n",
       "<table border=\"1\" class=\"dataframe\">\n",
       "  <thead>\n",
       "    <tr style=\"text-align: right;\">\n",
       "      <th></th>\n",
       "      <th>batch size</th>\n",
       "      <th>algo</th>\n",
       "      <th>run time ratio</th>\n",
       "    </tr>\n",
       "  </thead>\n",
       "  <tbody>\n",
       "    <tr>\n",
       "      <th>0</th>\n",
       "      <td>2</td>\n",
       "      <td>NaiveRIHOG [cpu]</td>\n",
       "      <td>1.0</td>\n",
       "    </tr>\n",
       "    <tr>\n",
       "      <th>1</th>\n",
       "      <td>4</td>\n",
       "      <td>NaiveRIHOG [cpu]</td>\n",
       "      <td>1.0</td>\n",
       "    </tr>\n",
       "    <tr>\n",
       "      <th>2</th>\n",
       "      <td>8</td>\n",
       "      <td>NaiveRIHOG [cpu]</td>\n",
       "      <td>1.0</td>\n",
       "    </tr>\n",
       "    <tr>\n",
       "      <th>3</th>\n",
       "      <td>16</td>\n",
       "      <td>NaiveRIHOG [cpu]</td>\n",
       "      <td>1.0</td>\n",
       "    </tr>\n",
       "    <tr>\n",
       "      <th>4</th>\n",
       "      <td>32</td>\n",
       "      <td>NaiveRIHOG [cpu]</td>\n",
       "      <td>1.0</td>\n",
       "    </tr>\n",
       "  </tbody>\n",
       "</table>\n",
       "</div>"
      ],
      "text/plain": [
       "   batch size              algo  run time ratio\n",
       "0           2  NaiveRIHOG [cpu]             1.0\n",
       "1           4  NaiveRIHOG [cpu]             1.0\n",
       "2           8  NaiveRIHOG [cpu]             1.0\n",
       "3          16  NaiveRIHOG [cpu]             1.0\n",
       "4          32  NaiveRIHOG [cpu]             1.0"
      ]
     },
     "execution_count": 9,
     "metadata": {},
     "output_type": "execute_result"
    }
   ],
   "source": [
    "df_batch_size_rel = df_batch_size.pivot(index=\"batch size\", columns=\"algo\", values=\"time\")\n",
    "df_batch_size_rel = df_batch_size_rel.div(df_batch_size_rel[\"NaiveRIHOG [cpu]\"], axis=0)\n",
    "df_batch_size_rel = df_batch_size_rel.reset_index().melt(id_vars=\"batch size\", value_name=\"run time ratio\")\n",
    "df_batch_size_rel.head()"
   ]
  },
  {
   "cell_type": "markdown",
   "id": "6a3d0f54",
   "metadata": {},
   "source": [
    "---"
   ]
  },
  {
   "cell_type": "code",
   "execution_count": 10,
   "id": "2144302b",
   "metadata": {},
   "outputs": [
    {
     "data": {
      "application/vnd.jupyter.widget-view+json": {
       "model_id": "a75b68f2d7ed4efb816d598448a3e4bf",
       "version_major": 2,
       "version_minor": 0
      },
      "text/plain": [
       "img_size:   0%|          | 0/5 [00:00<?, ?it/s]"
      ]
     },
     "metadata": {},
     "output_type": "display_data"
    },
    {
     "data": {
      "application/vnd.jupyter.widget-view+json": {
       "model_id": "d92daa30ac2640bc866dedf6bfb0f448",
       "version_major": 2,
       "version_minor": 0
      },
      "text/plain": [
       "it: 0it [00:00, ?it/s]"
      ]
     },
     "metadata": {},
     "output_type": "display_data"
    },
    {
     "data": {
      "application/vnd.jupyter.widget-view+json": {
       "model_id": "4d8b28623c224d9587c0a0ccf5d89da5",
       "version_major": 2,
       "version_minor": 0
      },
      "text/plain": [
       "it: 0it [00:00, ?it/s]"
      ]
     },
     "metadata": {},
     "output_type": "display_data"
    },
    {
     "data": {
      "application/vnd.jupyter.widget-view+json": {
       "model_id": "c7b2a901848d415f916aaededd15677b",
       "version_major": 2,
       "version_minor": 0
      },
      "text/plain": [
       "it: 0it [00:00, ?it/s]"
      ]
     },
     "metadata": {},
     "output_type": "display_data"
    },
    {
     "data": {
      "application/vnd.jupyter.widget-view+json": {
       "model_id": "a1a4e86df2804434b020f804d13c67a5",
       "version_major": 2,
       "version_minor": 0
      },
      "text/plain": [
       "it: 0it [00:00, ?it/s]"
      ]
     },
     "metadata": {},
     "output_type": "display_data"
    },
    {
     "data": {
      "application/vnd.jupyter.widget-view+json": {
       "model_id": "8eb135de0a4247a29e0d2c630ed292e8",
       "version_major": 2,
       "version_minor": 0
      },
      "text/plain": [
       "it: 0it [00:00, ?it/s]"
      ]
     },
     "metadata": {},
     "output_type": "display_data"
    },
    {
     "data": {
      "application/vnd.jupyter.widget-view+json": {
       "model_id": "ab4310ac50904956853899eedb3c3f12",
       "version_major": 2,
       "version_minor": 0
      },
      "text/plain": [
       "it: 0it [00:00, ?it/s]"
      ]
     },
     "metadata": {},
     "output_type": "display_data"
    },
    {
     "data": {
      "application/vnd.jupyter.widget-view+json": {
       "model_id": "cad052d40ce04c208773b01acebc3f43",
       "version_major": 2,
       "version_minor": 0
      },
      "text/plain": [
       "it: 0it [00:00, ?it/s]"
      ]
     },
     "metadata": {},
     "output_type": "display_data"
    },
    {
     "data": {
      "application/vnd.jupyter.widget-view+json": {
       "model_id": "8b3d0c94cf484a05a562d9438281e3e2",
       "version_major": 2,
       "version_minor": 0
      },
      "text/plain": [
       "it: 0it [00:00, ?it/s]"
      ]
     },
     "metadata": {},
     "output_type": "display_data"
    },
    {
     "data": {
      "application/vnd.jupyter.widget-view+json": {
       "model_id": "d066654332514a43b465f77f79b38c2b",
       "version_major": 2,
       "version_minor": 0
      },
      "text/plain": [
       "it: 0it [00:00, ?it/s]"
      ]
     },
     "metadata": {},
     "output_type": "display_data"
    },
    {
     "data": {
      "application/vnd.jupyter.widget-view+json": {
       "model_id": "dcad702cc6354acfa94d2ba64db00931",
       "version_major": 2,
       "version_minor": 0
      },
      "text/plain": [
       "it: 0it [00:00, ?it/s]"
      ]
     },
     "metadata": {},
     "output_type": "display_data"
    },
    {
     "data": {
      "application/vnd.jupyter.widget-view+json": {
       "model_id": "80275e8338e54bbe81a705726df4a044",
       "version_major": 2,
       "version_minor": 0
      },
      "text/plain": [
       "it: 0it [00:00, ?it/s]"
      ]
     },
     "metadata": {},
     "output_type": "display_data"
    },
    {
     "data": {
      "application/vnd.jupyter.widget-view+json": {
       "model_id": "a26c502713fa4e64bad6c61766d40bcc",
       "version_major": 2,
       "version_minor": 0
      },
      "text/plain": [
       "it: 0it [00:00, ?it/s]"
      ]
     },
     "metadata": {},
     "output_type": "display_data"
    },
    {
     "data": {
      "application/vnd.jupyter.widget-view+json": {
       "model_id": "ace4b2def0fb401aa901979c6d5bac66",
       "version_major": 2,
       "version_minor": 0
      },
      "text/plain": [
       "it: 0it [00:00, ?it/s]"
      ]
     },
     "metadata": {},
     "output_type": "display_data"
    },
    {
     "data": {
      "application/vnd.jupyter.widget-view+json": {
       "model_id": "aadcc0e8145543388f02309e1ae4267f",
       "version_major": 2,
       "version_minor": 0
      },
      "text/plain": [
       "it: 0it [00:00, ?it/s]"
      ]
     },
     "metadata": {},
     "output_type": "display_data"
    },
    {
     "data": {
      "application/vnd.jupyter.widget-view+json": {
       "model_id": "920bd0ace7fa48d09998cc4b852c9fa9",
       "version_major": 2,
       "version_minor": 0
      },
      "text/plain": [
       "it: 0it [00:00, ?it/s]"
      ]
     },
     "metadata": {},
     "output_type": "display_data"
    }
   ],
   "source": [
    "NBHD_STEPS = 3\n",
    "BATCH_SIZE = 1\n",
    "NUM_BINS = 8\n",
    "df_rows = []\n",
    "for img_size in tqdm([16, 32, 64, 128, 256], desc=\"img_size\", leave=False):\n",
    "\trihog_extr = rihog.RIHOG(nbhd_steps=NBHD_STEPS, num_bins=NUM_BINS)\n",
    "\tnaive_rihog_extr = rihog.NaiveRIHOG(nbhd_steps=NBHD_STEPS, num_bins=NUM_BINS)\n",
    "\tbatches = torch.rand((N_WARMUP + N_ITER, BATCH_SIZE, 1, img_size, img_size), device=\"cpu\")\n",
    "\tfor extr in [rihog_extr, naive_rihog_extr]:\n",
    "\t\tfor it, batch in tqdm(enumerate(batches), desc=\"it\", leave=False):\n",
    "\t\t\twith Timer(batches.device) as timer:\n",
    "\t\t\t\textr(batch)\n",
    "\t\t\tif it+1 > N_WARMUP:\n",
    "\t\t\t\tdf_rows.append({\n",
    "\t\t\t\t\t\"algo\": extr.__class__.__name__ + \" [cpu]\",\n",
    "\t\t\t\t\t\"image size\": img_size,\n",
    "\t\t\t\t\t\"time\": timer.time\n",
    "\t\t\t\t})\n",
    "\tbatches = batches.to(\"cuda\")\n",
    "\tfor it, batch in tqdm(enumerate(batches), desc=\"it\", leave=False):\n",
    "\t\twith Timer(batches.device) as timer:\n",
    "\t\t\trihog_extr(batch)\n",
    "\t\tif it+1 > N_WARMUP:\n",
    "\t\t\tdf_rows.append({\n",
    "\t\t\t\t\"algo\": rihog_extr.__class__.__name__ + \" [cuda]\",\n",
    "\t\t\t\t\"image size\": img_size,\n",
    "\t\t\t\t\"time\": timer.time\n",
    "\t\t\t})"
   ]
  },
  {
   "cell_type": "code",
   "execution_count": 11,
   "id": "0266cd91",
   "metadata": {},
   "outputs": [
    {
     "data": {
      "text/html": [
       "<div>\n",
       "<style scoped>\n",
       "    .dataframe tbody tr th:only-of-type {\n",
       "        vertical-align: middle;\n",
       "    }\n",
       "\n",
       "    .dataframe tbody tr th {\n",
       "        vertical-align: top;\n",
       "    }\n",
       "\n",
       "    .dataframe thead th {\n",
       "        text-align: right;\n",
       "    }\n",
       "</style>\n",
       "<table border=\"1\" class=\"dataframe\">\n",
       "  <thead>\n",
       "    <tr style=\"text-align: right;\">\n",
       "      <th></th>\n",
       "      <th>algo</th>\n",
       "      <th>image size</th>\n",
       "      <th>time</th>\n",
       "    </tr>\n",
       "  </thead>\n",
       "  <tbody>\n",
       "    <tr>\n",
       "      <th>0</th>\n",
       "      <td>NaiveRIHOG [cpu]</td>\n",
       "      <td>16</td>\n",
       "      <td>0.006948</td>\n",
       "    </tr>\n",
       "    <tr>\n",
       "      <th>1</th>\n",
       "      <td>NaiveRIHOG [cpu]</td>\n",
       "      <td>32</td>\n",
       "      <td>0.042283</td>\n",
       "    </tr>\n",
       "    <tr>\n",
       "      <th>2</th>\n",
       "      <td>NaiveRIHOG [cpu]</td>\n",
       "      <td>64</td>\n",
       "      <td>0.207330</td>\n",
       "    </tr>\n",
       "    <tr>\n",
       "      <th>3</th>\n",
       "      <td>NaiveRIHOG [cpu]</td>\n",
       "      <td>128</td>\n",
       "      <td>0.944807</td>\n",
       "    </tr>\n",
       "    <tr>\n",
       "      <th>4</th>\n",
       "      <td>NaiveRIHOG [cpu]</td>\n",
       "      <td>256</td>\n",
       "      <td>4.139759</td>\n",
       "    </tr>\n",
       "  </tbody>\n",
       "</table>\n",
       "</div>"
      ],
      "text/plain": [
       "               algo  image size      time\n",
       "0  NaiveRIHOG [cpu]          16  0.006948\n",
       "1  NaiveRIHOG [cpu]          32  0.042283\n",
       "2  NaiveRIHOG [cpu]          64  0.207330\n",
       "3  NaiveRIHOG [cpu]         128  0.944807\n",
       "4  NaiveRIHOG [cpu]         256  4.139759"
      ]
     },
     "execution_count": 11,
     "metadata": {},
     "output_type": "execute_result"
    }
   ],
   "source": [
    "df_img_size = pd.DataFrame.from_records(df_rows)\n",
    "df_img_size = df_img_size.groupby([\"algo\", \"image size\"]).mean().reset_index()\n",
    "df_img_size.head()"
   ]
  },
  {
   "cell_type": "code",
   "execution_count": 12,
   "id": "ed69b840",
   "metadata": {},
   "outputs": [
    {
     "data": {
      "text/html": [
       "<div>\n",
       "<style scoped>\n",
       "    .dataframe tbody tr th:only-of-type {\n",
       "        vertical-align: middle;\n",
       "    }\n",
       "\n",
       "    .dataframe tbody tr th {\n",
       "        vertical-align: top;\n",
       "    }\n",
       "\n",
       "    .dataframe thead th {\n",
       "        text-align: right;\n",
       "    }\n",
       "</style>\n",
       "<table border=\"1\" class=\"dataframe\">\n",
       "  <thead>\n",
       "    <tr style=\"text-align: right;\">\n",
       "      <th></th>\n",
       "      <th>image size</th>\n",
       "      <th>algo</th>\n",
       "      <th>run time ratio</th>\n",
       "    </tr>\n",
       "  </thead>\n",
       "  <tbody>\n",
       "    <tr>\n",
       "      <th>0</th>\n",
       "      <td>16</td>\n",
       "      <td>NaiveRIHOG [cpu]</td>\n",
       "      <td>1.0</td>\n",
       "    </tr>\n",
       "    <tr>\n",
       "      <th>1</th>\n",
       "      <td>32</td>\n",
       "      <td>NaiveRIHOG [cpu]</td>\n",
       "      <td>1.0</td>\n",
       "    </tr>\n",
       "    <tr>\n",
       "      <th>2</th>\n",
       "      <td>64</td>\n",
       "      <td>NaiveRIHOG [cpu]</td>\n",
       "      <td>1.0</td>\n",
       "    </tr>\n",
       "    <tr>\n",
       "      <th>3</th>\n",
       "      <td>128</td>\n",
       "      <td>NaiveRIHOG [cpu]</td>\n",
       "      <td>1.0</td>\n",
       "    </tr>\n",
       "    <tr>\n",
       "      <th>4</th>\n",
       "      <td>256</td>\n",
       "      <td>NaiveRIHOG [cpu]</td>\n",
       "      <td>1.0</td>\n",
       "    </tr>\n",
       "  </tbody>\n",
       "</table>\n",
       "</div>"
      ],
      "text/plain": [
       "   image size              algo  run time ratio\n",
       "0          16  NaiveRIHOG [cpu]             1.0\n",
       "1          32  NaiveRIHOG [cpu]             1.0\n",
       "2          64  NaiveRIHOG [cpu]             1.0\n",
       "3         128  NaiveRIHOG [cpu]             1.0\n",
       "4         256  NaiveRIHOG [cpu]             1.0"
      ]
     },
     "execution_count": 12,
     "metadata": {},
     "output_type": "execute_result"
    }
   ],
   "source": [
    "df_img_size_rel = df_img_size.pivot(index=\"image size\", columns=\"algo\", values=\"time\")\n",
    "df_img_size_rel = df_img_size_rel.div(df_img_size_rel[\"NaiveRIHOG [cpu]\"], axis=0)\n",
    "df_img_size_rel = df_img_size_rel.reset_index().melt(id_vars=\"image size\", value_name=\"run time ratio\")\n",
    "df_img_size_rel.head()"
   ]
  },
  {
   "cell_type": "markdown",
   "id": "a24b7216",
   "metadata": {},
   "source": [
    "---"
   ]
  },
  {
   "cell_type": "code",
   "execution_count": 13,
   "id": "9a8889bd",
   "metadata": {},
   "outputs": [],
   "source": [
    "ylim_bottom = pd.concat([df_nbhd_steps_rel, df_batch_size_rel, df_img_size_rel])[\"run time ratio\"].min()\n",
    "palette = sns.color_palette()\n",
    "palette = [palette[3], palette[0], palette[2]]"
   ]
  },
  {
   "cell_type": "code",
   "execution_count": 30,
   "id": "56c98de5",
   "metadata": {},
   "outputs": [
    {
     "data": {
      "image/png": "[encoded data removed]",
      "text/plain": [
       "<Figure size 640x480 with 1 Axes>"
      ]
     },
     "metadata": {},
     "output_type": "display_data"
    }
   ],
   "source": [
    "ax = sns.lineplot(df_nbhd_steps_rel, x=\"nbhd_steps\", y=\"run time ratio\", hue=\"algo\", marker=\"o\", palette=palette)\n",
    "ax.set_yscale(\"log\")\n",
    "ax.set_xticks(df_nbhd_steps_rel[\"nbhd_steps\"].unique())\n",
    "ax.set_ylim(bottom=.5 * ylim_bottom, top=1.45)\n",
    "plt.suptitle(\"nbhd_steps\", x=.123, ha=\"left\")\n",
    "plt.title(f\"num_bins: {NUM_BINS}, image size: {IMG_SIZE}, batch size: {BATCH_SIZE}\", loc=\"left\", fontsize=10)\n",
    "plt.legend(title=None, fontsize=7, loc=\"upper right\", bbox_to_anchor=(1,1.15), frameon=False)\n",
    "for line in ax.lines[1:2+1]:\n",
    "\tfor x, y in line.get_xydata():\n",
    "\t\tplt.text(x, .6*y, f\"{round(1 / y)}x\", fontsize=8, ha=\"center\")"
   ]
  },
  {
   "cell_type": "code",
   "execution_count": 31,
   "id": "90366192",
   "metadata": {},
   "outputs": [
    {
     "data": {
      "image/png": "[encoded data removed]",
      "text/plain": [
       "<Figure size 640x480 with 1 Axes>"
      ]
     },
     "metadata": {},
     "output_type": "display_data"
    }
   ],
   "source": [
    "ax = sns.lineplot(df_batch_size_rel, x=\"batch size\", y=\"run time ratio\", hue=\"algo\", marker=\"o\", palette=palette)\n",
    "ax.set_yscale(\"log\")\n",
    "ax.set_xticks(df_batch_size_rel[\"batch size\"].unique())\n",
    "ax.set_ylim(bottom=.5 * ylim_bottom, top=1.45)\n",
    "plt.suptitle(\"batch size\", x=.123, ha=\"left\")\n",
    "plt.title(f\"nbhd_steps: {NBHD_STEPS}, num_bins: {NUM_BINS}, image size: {IMG_SIZE}\", loc=\"left\", fontsize=10)\n",
    "plt.legend(title=None, fontsize=7, loc=\"upper right\", bbox_to_anchor=(1,1.15), frameon=False)\n",
    "for line in ax.lines[1:2+1]:\n",
    "\tfor x, y in line.get_xydata():\n",
    "\t\tplt.text(x, .6*y, f\"{round(1 / y)}x\", fontsize=8, ha=\"center\")"
   ]
  },
  {
   "cell_type": "code",
   "execution_count": 32,
   "id": "d2d1f0d8",
   "metadata": {},
   "outputs": [
    {
     "data": {
      "image/png": "[encoded data removed]",
      "text/plain": [
       "<Figure size 640x480 with 1 Axes>"
      ]
     },
     "metadata": {},
     "output_type": "display_data"
    }
   ],
   "source": [
    "ax = sns.lineplot(df_img_size_rel, x=\"image size\", y=\"run time ratio\", hue=\"algo\", marker=\"o\", palette=palette)\n",
    "ax.set_yscale(\"log\")\n",
    "ax.set_xticks(df_img_size_rel[\"image size\"].unique())\n",
    "ax.set_ylim(bottom=.5 * ylim_bottom, top=1.45)\n",
    "plt.suptitle(\"image size\", x=.123, ha=\"left\")\n",
    "plt.title(f\"nbhd_steps: {NBHD_STEPS}, num_bins: {NUM_BINS}, batch size: {BATCH_SIZE}\", loc=\"left\", fontsize=10)\n",
    "plt.legend(title=None, fontsize=7, loc=\"upper right\", bbox_to_anchor=(1,1.15), frameon=False)\n",
    "for line in ax.lines[1:2+1]:\n",
    "\tfor x, y in line.get_xydata():\n",
    "\t\tplt.text(x, .6*y, f\"{round(1 / y)}x\", fontsize=8, ha=\"center\")"
   ]
  }
 ],
 "metadata": {
  "kernelspec": {
   "display_name": "rihog",
   "language": "python",
   "name": "python3"
  },
  "language_info": {
   "codemirror_mode": {
    "name": "ipython",
    "version": 3
   },
   "file_extension": ".py",
   "mimetype": "text/x-python",
   "name": "python",
   "nbconvert_exporter": "python",
   "pygments_lexer": "ipython3",
   "version": "3.11.11"
  }
 },
 "nbformat": 4,
 "nbformat_minor": 5
}
